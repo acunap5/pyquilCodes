{
 "cells": [
  {
   "cell_type": "markdown",
   "metadata": {},
   "source": [
    "## Quantum Teleportation\n",
    "Based on Michael Nielson's video series: https://www.youtube.com/watch?v=3wZ35c3oYUE"
   ]
  },
  {
   "cell_type": "code",
   "execution_count": 1,
   "metadata": {
    "collapsed": true
   },
   "outputs": [],
   "source": [
    "import math\n",
    "import numpy as np\n",
    "from pyquil.quil import Program\n",
    "from pyquil.api import QVMConnection\n",
    "from pyquil.gates import H, X, Z, CNOT\n",
    "\n",
    "qvm = QVMConnection()"
   ]
  },
  {
   "cell_type": "markdown",
   "metadata": {},
   "source": [
    "Quantum Teleportation is \"teleporting\" the state from (like most texts call it), Alice ($q_0$), to Bob ($q_2$).  Why do we need this?  Can't we just copy the state over?  The answer is no we cannot due to the no cloning theorem in quantum mechanics.  A work around is using quantum teleportation to get Alice's wavefunction.  To do this we need an intermidate qubit (unfortunately no name was given to this one), $q_1$.  Using the quantum circuit below...\n",
    "\n",
    "![Tele](tele.png)\n",
    "\n",
    "where Alice is $\\psi$ in this case and Bob is the last qubit.  That last instruction for Bob is dependant on what the measurements of the above is.  Here is a quick table without getting into too much math (for video of proof visit link above) ...\n",
    "\n",
    "![Table](bob_trans.png)\n",
    "\n",
    "So now all thats left is to program this circuit.  We will let the user define p(0) and p(1) which are $\\left|  \\alpha  \\right| ^2 $ and $\\left|  \\beta  \\right| ^2 $ respectively where...\n",
    "\n",
    "$$ \\psi = \\alpha \\lvert 0 \\rangle + \\beta \\lvert 1 \\rangle $$\n",
    "\n",
    "Our teleport function will return Bob's wavefunction which should be equivalent to Alice's initial wavefunction and therefore showing our quantum teleporter works (No we still cannot teleport ourselves unfortunately)!\n"
   ]
  },
  {
   "cell_type": "code",
   "execution_count": 2,
   "metadata": {
    "collapsed": true
   },
   "outputs": [],
   "source": [
    "#creates a unitary matrix (based heavily on the Hadamard) to be made into a gate to create Alice's inital state\n",
    "def AliceMatrix(p0, p1):\n",
    "    probs = np.array(([math.sqrt(p0), -math.sqrt(p1)], \n",
    "                      [math.sqrt(p1), math.sqrt(p0)]))\n",
    "    return probs"
   ]
  },
  {
   "cell_type": "code",
   "execution_count": 10,
   "metadata": {
    "collapsed": true
   },
   "outputs": [],
   "source": [
    "def tele(p0, p1):\n",
    "    \n",
    "    #getting the unitary prob matrix\n",
    "    probs_matrix = AliceMatrix(p0, p1)\n",
    "    \n",
    "    #creating that gate\n",
    "    p = Program().defgate(\"Pr\", probs_matrix)\n",
    "    \n",
    "    #pre-measurement instructions\n",
    "    p += Program((\"Pr\", 0), H(1), CNOT(1, 2), CNOT(0, 1), H(0)) \n",
    "    \n",
    "    #measure Alice and q1\n",
    "    p.measure(0, [0])\n",
    "    p.measure(1, [1])\n",
    "    \n",
    "    #checking state, then applying appropriate transformation\n",
    "    p.if_then(1, X(2))\n",
    "    p.if_then(0, Z(2))\n",
    "    \n",
    "    #printing wavefunction at the end of the circuit\n",
    "    wavefunction = qvm.wavefunction(p)\n",
    "    print(\"Wavefunction: \", wavefunction)\n",
    "    return wavefunction.plot() "
   ]
  },
  {
   "cell_type": "markdown",
   "metadata": {},
   "source": [
    "Pr(0) + Pr(1) must equal 1\n",
    "\n",
    "In the final wavefunction we will see that the term with the leading 0, which is Bob's qubit place, is equivalent to Alices $\\alpha$ term.  And the term with the leading 1 is equivalent to Alice's $\\beta$\n",
    "\n",
    "Have fun teleporting and testing other probabilities!"
   ]
  },
  {
   "cell_type": "code",
   "execution_count": 11,
   "metadata": {},
   "outputs": [
    {
     "name": "stdout",
     "output_type": "stream",
     "text": [
      "Pr(0): .5\n",
      "Pr(1): .5\n",
      "Wavefunction:  (0.7071067812+0j)|001> + (-0.7071067812+0j)|101>\n"
     ]
    },
    {
     "data": {
      "image/png": "[encoded data removed]",
      "text/plain": [
       "<Figure size 432x288 with 1 Axes>"
      ]
     },
     "metadata": {},
     "output_type": "display_data"
    }
   ],
   "source": [
    "pr0 = float(input(\"Pr(0): \"))\n",
    "pr1 = float(input(\"Pr(1): \"))\n",
    "tele(pr0, pr1)"
   ]
  },
  {
   "cell_type": "code",
   "execution_count": null,
   "metadata": {
    "collapsed": true
   },
   "outputs": [],
   "source": [
    "Based"
   ]
  }
 ],
 "metadata": {
  "kernelspec": {
   "display_name": "Python 3",
   "language": "python",
   "name": "python3"
  },
  "language_info": {
   "codemirror_mode": {
    "name": "ipython",
    "version": 3
   },
   "file_extension": ".py",
   "mimetype": "text/x-python",
   "name": "python",
   "nbconvert_exporter": "python",
   "pygments_lexer": "ipython3",
   "version": "3.6.3"
  }
 },
 "nbformat": 4,
 "nbformat_minor": 2
}
