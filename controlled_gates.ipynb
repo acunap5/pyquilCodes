{
 "cells": [
  {
   "cell_type": "markdown",
   "metadata": {},
   "source": [
    "# Controlled Gates \n",
    "<br/>\n",
    "\n",
    "<center> \n",
    "\n",
    "Write a function controlled which takes a 2×2 matrix U representing a single qubit operator, and makes a 4×4 matrix which is a controlled variant of U, with the first argument being the control qubit.\n",
    "Write a Quil program to define a controlled-Y gate in this manner. Find the wavefunction when applying this gate to qubit 1 controlled by qubit 0.\n",
    "\n",
    "</center>\n"
   ]
  },
  {
   "cell_type": "code",
   "execution_count": 58,
   "metadata": {
    "collapsed": true
   },
   "outputs": [],
   "source": [
    "import math\n",
    "import numpy as np\n",
    "from pyquil.quil import Program\n",
    "from pyquil.api import QVMConnection\n",
    "from pyquil.gates import Y\n",
    "from six.moves import range\n",
    "qvm = QVMConnection()"
   ]
  },
  {
   "cell_type": "markdown",
   "metadata": {},
   "source": [
    "### What is a controlled gate? \n",
    "<br/>\n",
    "Controlled gates act on 2 or more qubits, where one or more qubits act as a control for some operation.  So if the controlled qubit, qubit 0, is in state $\\lvert 1 \\rangle$, it preforms the operation to qubit 1.  Else do nothing.\n",
    "<br/>\n",
    "### How to create a controlled gate given gate U?\n",
    "<br/>\n",
    "Given U which looks as follows...\n",
    "<br/>\n",
    "\n",
    "$$\n",
    "U =  \\left(\\begin{array}{cc} \n",
    "u_{00} & u_{01}\\\\\n",
    "u_{10} & u_{11}\n",
    "\\end{array}\\right)\n",
    "$$\n",
    "<br/>\n",
    "\n",
    "The controlled version looks as follows...\n",
    "<br/>\n",
    "\n",
    "$$\n",
    "C(U) =  \\left(\\begin{array}{cc} \n",
    "1 & 0 & 0 & 0\\\\\n",
    "0 & 1 & 0 & 0 \\\\\n",
    "0 & 0 & u_{00} & u_{01}\\\\\n",
    "0 & 0 & u_{10} & u_{11}\n",
    "\\end{array}\\right)\n",
    "$$\n",
    "<br/>\n",
    "\n",
    "This can be shown using kronecker products which can be found here https://en.wikipedia.org/wiki/Quantum_logic_gate#Controlled_(cX_cY_cZ)_gates\n",
    "but for simplistic purposes will only show the end result.\n",
    "Now we have all we need to create the function to make a controlled U gate!"
   ]
  },
  {
   "cell_type": "code",
   "execution_count": 70,
   "metadata": {},
   "outputs": [
    {
     "name": "stdout",
     "output_type": "stream",
     "text": [
      "[[ 1.+0.j  0.+0.j  0.+0.j  0.+0.j]\n",
      " [ 0.+0.j  1.+0.j  0.+0.j  0.+0.j]\n",
      " [ 0.+0.j  0.+0.j  0.+0.j -0.-1.j]\n",
      " [ 0.+0.j  0.+0.j  0.+1.j  0.+0.j]]\n",
      "(1+0j)|00>\n"
     ]
    }
   ],
   "source": [
    "#Y-gate\n",
    "Y = np.array(([0.0, -1.0j], \n",
    "              [1.0j, 0.0]))\n",
    "#C-Y gate\n",
    "cY = np.array(([1.0, 0.0, 0.0, 0.0], \n",
    "               [0.0, 1.0, 0.0, 0.0],\n",
    "               [0.0, 0.0, Y[0,0], Y[0,1]],\n",
    "               [0.0, 0.0, Y[1,0], Y[1,1]]))\n",
    "print(cY)\n",
    "p1 = Program().defgate(\"CY\", cY)\n",
    "p1.inst((\"CY\", 0, 1))\n",
    "wavefunction = qvm.wavefunction(p1)\n",
    "print(wavefunction)"
   ]
  },
  {
   "cell_type": "code",
   "execution_count": null,
   "metadata": {
    "collapsed": true
   },
   "outputs": [],
   "source": []
  }
 ],
 "metadata": {
  "kernelspec": {
   "display_name": "Python 3",
   "language": "python",
   "name": "python3"
  },
  "language_info": {
   "codemirror_mode": {
    "name": "ipython",
    "version": 3
   },
   "file_extension": ".py",
   "mimetype": "text/x-python",
   "name": "python",
   "nbconvert_exporter": "python",
   "pygments_lexer": "ipython3",
   "version": "3.6.3"
  }
 },
 "nbformat": 4,
 "nbformat_minor": 2
}
