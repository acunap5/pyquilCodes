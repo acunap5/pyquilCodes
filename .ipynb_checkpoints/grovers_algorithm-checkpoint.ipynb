{
 "cells": [
  {
   "cell_type": "code",
   "execution_count": 2,
   "metadata": {
    "collapsed": true
   },
   "outputs": [],
   "source": [
    "import math\n",
    "import numpy as np\n",
    "from pyquil.quil import Program\n",
    "from pyquil.api import QVMConnection\n",
    "from pyquil.gates import H, Y, X\n",
    "\n",
    "qvm = QVMConnection()"
   ]
  },
  {
   "cell_type": "markdown",
   "metadata": {},
   "source": [
    "Since the classical AND gate is not reversible we have a Toffoli gate which as inputs takes in two control qubits, $q_0$, $q_1$, and one target, $q_2$.\n",
    "\n",
    "$q_2$ is flipped if and only if $q_0$ and $q_1$ are in state $\\lvert 1 \\rangle$.  A toffoli gate is equivalent to the quantum instruction set below.  We will use this definition instead of the creating our own gate using defgate.  \n",
    "\n",
    "![Toffoli](toff.png)\n",
    "\n",
    "The only gate in the instruction set that is not already defined in gates.py is $T^\\dagger$, the conjugate transpose of T.\n",
    "\n",
    "U of the form...\n",
    "\n",
    "$$\n",
    "U =  \\left(\\begin{array}{cc} \n",
    "a & b\\\\\n",
    "c & d\n",
    "\\end{array}\\right)\n",
    "$$\n",
    "\n",
    "thus...\n",
    "\n",
    "$$\n",
    "U^\\dagger =  \\left(\\begin{array}{cc} \n",
    "a^* & c\\\\\n",
    "b & d^*\n",
    "\\end{array}\\right)\n",
    "$$\n",
    "\n",
    "where $a^*$ and $d^*$ are complex conjugates of a and d respectively.\n",
    "\n",
    "\n",
    "So T looks of the form...\n",
    "\n",
    "$$\n",
    "T =  \\left(\\begin{array}{cc} \n",
    "1 & 0\\\\\n",
    "0 & e^{i \\pi /4}\n",
    "\\end{array}\\right)\n",
    "$$\n",
    "\n",
    "thus...\n",
    "\n",
    "$$\n",
    "T^\\dagger =  \\left(\\begin{array}{cc} \n",
    "1 & 0\\\\\n",
    "0 & e^{-i \\pi /4}\n",
    "\\end{array}\\right)\n",
    "$$\n",
    "\n"
   ]
  },
  {
   "cell_type": "code",
   "execution_count": 17,
   "metadata": {},
   "outputs": [],
   "source": [
    "#T dagger matrix from above to create into a gate \n",
    "t_dag_mat = np.array(([1, 0], \n",
    "                      [0, np.exp(-1j*np.pi/4)]))"
   ]
  },
  {
   "cell_type": "code",
   "execution_count": 16,
   "metadata": {},
   "outputs": [],
   "source": [
    "def Toffoli(q0, q1, q2, p=None):\n",
    "    \n",
    "    #if no existng program create one\n",
    "    if (p == None):\n",
    "        p = Program()\n",
    "        \n",
    "    #add toffoli to program same instruction set as picture above\n",
    "    p += Program(H(q2), CNOT(q1, q2), (\"T_dag\", q2), \n",
    "           CNOT(q0, q2), T(q2), CNOT(q1, q2),\n",
    "           (\"T_dag\", q2), CNOT(q0, q2), T(q1),\n",
    "           T(q2), H(q2), CNOT(q0, q1), T(q0),\n",
    "           (\"T_dag\", q1), CNOT(q0, q1))  \n",
    "    \n",
    "    return p\n"
   ]
  },
  {
   "cell_type": "code",
   "execution_count": 18,
   "metadata": {},
   "outputs": [],
   "source": [
    "# data is an array of 0's and 1's such that there are exactly three times as many 0's as 1's\n",
    "def single_shot_grovers(data):\n",
    "    return 0"
   ]
  },
  {
   "cell_type": "code",
   "execution_count": 19,
   "metadata": {
    "collapsed": true
   },
   "outputs": [],
   "source": [
    "data = ([0,0,1,0])"
   ]
  },
  {
   "cell_type": "code",
   "execution_count": null,
   "metadata": {
    "collapsed": true
   },
   "outputs": [],
   "source": []
  }
 ],
 "metadata": {
  "kernelspec": {
   "display_name": "Python 3",
   "language": "python",
   "name": "python3"
  },
  "language_info": {
   "codemirror_mode": {
    "name": "ipython",
    "version": 3
   },
   "file_extension": ".py",
   "mimetype": "text/x-python",
   "name": "python",
   "nbconvert_exporter": "python",
   "pygments_lexer": "ipython3",
   "version": "3.6.3"
  }
 },
 "nbformat": 4,
 "nbformat_minor": 2
}
