{
 "cells": [
  {
   "cell_type": "markdown",
   "metadata": {},
   "source": [
    "## Super Dense Coding: Sending Two Bits with One Qubit\n",
    "Based on Michael Nielson's video series: https://www.youtube.com/watch?v=w5rCn593Dig&t=219s"
   ]
  },
  {
   "cell_type": "markdown",
   "metadata": {},
   "source": [
    "Say we have two people, Alice and Bob, each has a qubit in a entangled state.  Alice wants to send a Bob a two bit string to Bob, but only has one qubit.  Alice then realizes that she has an entangled qubit with Bob's so she applies a transformation to her qubit in order for Bob to decode her message.  The following transformations are what Alice must do to send the following messages...\n",
    "\n",
    "![Table](bob_trans.png)\n",
    "\n",
    "She then sends her qubit to Bob.  Bob then applies a CNOT gate with Alice's qubit as the control and Bob's as the target.  He then applies a Hadamard gate to Alice's qubit then measures the two and there lies Alice's two bit string.  The proof to why this is true can be found in the video above.  And the circuit is as follows below (image from video)...\n",
    "\n",
    "![circuit](sdc.png)\n"
   ]
  },
  {
   "cell_type": "code",
   "execution_count": 58,
   "metadata": {
    "collapsed": true
   },
   "outputs": [],
   "source": [
    "import math\n",
    "import numpy as np\n",
    "from pyquil.quil import Program\n",
    "from pyquil.api import QVMConnection\n",
    "from pyquil.gates import H, X, Z, CNOT\n",
    "\n",
    "qvm = QVMConnection()"
   ]
  },
  {
   "cell_type": "code",
   "execution_count": 59,
   "metadata": {},
   "outputs": [],
   "source": [
    "#Make Alice's and Bob's qubits entangled\n",
    "def bellState():\n",
    "    \n",
    "    p = Program()\n",
    "    p.inst((H(0)), CNOT(0,1))\n",
    "    return p"
   ]
  },
  {
   "cell_type": "code",
   "execution_count": 60,
   "metadata": {},
   "outputs": [],
   "source": [
    "def aliceTransform(alices_message):\n",
    "    \n",
    "    #entangle the qubits\n",
    "    p = bellState()\n",
    "    \n",
    "    #applying the needed transforms\n",
    "    if (alices_message == \"01\"):\n",
    "        p += Program(X(0))\n",
    "    elif (alices_message == \"10\"):\n",
    "        p += Program(Z(0))\n",
    "    elif (alices_message == \"11\"):\n",
    "        p += Program(X(0), Z(0))\n",
    "        \n",
    "    return p"
   ]
  },
  {
   "cell_type": "code",
   "execution_count": 73,
   "metadata": {},
   "outputs": [],
   "source": [
    "def bobReading(p):\n",
    "    p += Program(CNOT(0,1), H(0))\n",
    "    read_message = p.measure_all()\n",
    "    result = qvm.run(read_message)\n",
    "    print(\"Bob reads:\", result[0][0], result[0][1])"
   ]
  },
  {
   "cell_type": "code",
   "execution_count": 74,
   "metadata": {},
   "outputs": [
    {
     "name": "stdout",
     "output_type": "stream",
     "text": [
      "Alice's Two Bit Message: 01\n",
      "Bob reads: 0 1\n"
     ]
    }
   ],
   "source": [
    "alice_mess = input(\"Alice's Two Bit Message: \")\n",
    "p = aliceTransform(alice_mess)\n",
    "bobReading(p)"
   ]
  },
  {
   "cell_type": "markdown",
   "metadata": {},
   "source": [
    "This will help further your understand how quantum teleporting works in the next notebook.  Have fun testing!"
   ]
  }
 ],
 "metadata": {
  "kernelspec": {
   "display_name": "Python 3",
   "language": "python",
   "name": "python3"
  },
  "language_info": {
   "codemirror_mode": {
    "name": "ipython",
    "version": 3
   },
   "file_extension": ".py",
   "mimetype": "text/x-python",
   "name": "python",
   "nbconvert_exporter": "python",
   "pygments_lexer": "ipython3",
   "version": "3.6.3"
  }
 },
 "nbformat": 4,
 "nbformat_minor": 2
}
