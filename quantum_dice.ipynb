{
 "cells": [
  {
   "cell_type": "code",
   "execution_count": 8,
   "metadata": {
    "collapsed": true
   },
   "outputs": [],
   "source": [
    "import math\n",
    "from pyquil.quil import Program\n",
    "from pyquil.api import QVMConnection\n",
    "from pyquil.gates import H\n",
    "from functools import reduce\n",
    "from six.moves import range\n",
    "\n",
    "qvm = QVMConnection()"
   ]
  },
  {
   "cell_type": "markdown",
   "metadata": {},
   "source": [
    "Given n-qubits you can make $2^n$ combinations, or die faces.  Therefore to make a m-sided die we will use $\\lceil{log_2 n}\\rceil$ qubits.  Making a die with more sides than needed so we will only accept values $\\leq m$.  This is a non-derministic approach, we can make it deterministic but by measuring a single qubit in a state of superposition $m-1$ times totaling up the results and taking the modulus of m to create the die.  But this does not take advantage of the benefits of qubits."
   ]
  },
  {
   "cell_type": "code",
   "execution_count": 9,
   "metadata": {},
   "outputs": [],
   "source": [
    "def roll(m):\n",
    "    n = int(math.ceil(math.log(m, 2)))\n",
    "    dice = Program()\n",
    "    \n",
    "    #initializes list, dice, of required qubits and applies hadamard\n",
    "    for x in range(n):\n",
    "        dice.inst(H(x))\n",
    "        \n",
    "    #makes program roll_dice to measure all qubits in dice\n",
    "    roll_dice = dice.measure_all()\n",
    "    \n",
    "    #rolls die and calculates result\n",
    "    #if dice_value is greater than the sides on the die, reroll\n",
    "    while True:\n",
    "        result = qvm.run(roll_dice)\n",
    "        dice_value = reduce(lambda x, y: 2*x + y, result[0], 0)\n",
    "        if (dice_value < m):\n",
    "            return dice_value + 1"
   ]
  },
  {
   "cell_type": "markdown",
   "metadata": {},
   "source": [
    "Ask user how many sides for desired die and prints roll"
   ]
  },
  {
   "cell_type": "code",
   "execution_count": 10,
   "metadata": {},
   "outputs": [
    {
     "name": "stdout",
     "output_type": "stream",
     "text": [
      "Number of sides: 10\n",
      "Quantum Roll :  7\n"
     ]
    }
   ],
   "source": [
    "m = int(input(\"Number of sides: \"))\n",
    "print(\"Quantum Roll : \", roll(m))"
   ]
  }
 ],
 "metadata": {
  "kernelspec": {
   "display_name": "Python 3",
   "language": "python",
   "name": "python3"
  },
  "language_info": {
   "codemirror_mode": {
    "name": "ipython",
    "version": 3
   },
   "file_extension": ".py",
   "mimetype": "text/x-python",
   "name": "python",
   "nbconvert_exporter": "python",
   "pygments_lexer": "ipython3",
   "version": "3.6.3"
  }
 },
 "nbformat": 4,
 "nbformat_minor": 2
}
